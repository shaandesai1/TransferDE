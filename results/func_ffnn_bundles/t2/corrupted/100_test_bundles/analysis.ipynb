{
 "cells": [
  {
   "cell_type": "code",
   "execution_count": 1,
   "id": "c0593fdd",
   "metadata": {},
   "outputs": [],
   "source": [
    "import torch"
   ]
  },
  {
   "cell_type": "code",
   "execution_count": 2,
   "id": "02a3cf63",
   "metadata": {},
   "outputs": [],
   "source": [
    "import pickle\n",
    "import os\n",
    "import numpy as np\n",
    "import re\n",
    "import pandas as pd"
   ]
  },
  {
   "cell_type": "code",
   "execution_count": 3,
   "id": "3df5795a",
   "metadata": {},
   "outputs": [
    {
     "data": {
      "text/plain": [
       "array(['analysis.ipynb'], dtype='<U14')"
      ]
     },
     "execution_count": 3,
     "metadata": {},
     "output_type": "execute_result"
    }
   ],
   "source": [
    "files = [f for f in os.listdir('.') if os.path.isfile(f)]\n",
    "files = np.array(files)\n",
    "bool_mask = [\"pickle\" in file for file in files]\n",
    "files"
   ]
  },
  {
   "cell_type": "code",
   "execution_count": 4,
   "id": "ad2403e7",
   "metadata": {},
   "outputs": [
    {
     "data": {
      "text/plain": [
       "[]"
      ]
     },
     "execution_count": 4,
     "metadata": {},
     "output_type": "execute_result"
    }
   ],
   "source": [
    "pickle_files = files[bool_mask]\n",
    "pickle_files = [str(file) for file in pickle_files]\n",
    "pickle_files"
   ]
  },
  {
   "cell_type": "code",
   "execution_count": 5,
   "id": "a3958043",
   "metadata": {},
   "outputs": [],
   "source": [
    "import re"
   ]
  },
  {
   "cell_type": "code",
   "execution_count": 6,
   "id": "638bd328",
   "metadata": {},
   "outputs": [],
   "source": [
    "def hacky_search(regex, string):\n",
    "    num_bundles = np.array(re.findall(regex, string))\n",
    "    num_bundles = num_bundles[[result != '' for result in num_bundles]]\n",
    "    num_bundles = [re.split(f'_', strr) for strr in num_bundles]\n",
    "    num_bundles = [ {s[1]: int(s[2])} for s in num_bundles]\n",
    "    return num_bundles"
   ]
  },
  {
   "cell_type": "code",
   "execution_count": 7,
   "id": "49aecf69",
   "metadata": {},
   "outputs": [],
   "source": [
    "data = []\n",
    "for data_file in pickle_files:\n",
    "    with open(data_file, 'rb') as f:\n",
    "        x = pickle.load(f)\n",
    "        \n",
    "        num_bundles = hacky_search(r'num_bundles_\\d*', str(f.name))\n",
    "        num_forces = hacky_search(r'num_forces_\\d*', str(f.name))\n",
    "        dictt = [{**num_bundles[i], **num_forces[i]} for i in range(len(num_forces))][0]\n",
    "        try:\n",
    "            data.append({**x, **dictt})\n",
    "        except:\n",
    "            print(f.name, 'failed')"
   ]
  },
  {
   "cell_type": "code",
   "execution_count": 9,
   "id": "586f2d46",
   "metadata": {},
   "outputs": [],
   "source": [
    "import time\n",
    "import matplotlib.pyplot as plt\n",
    "d"
   ]
  },
  {
   "cell_type": "code",
   "execution_count": 10,
   "id": "b3f5a7e2",
   "metadata": {},
   "outputs": [
    {
     "ename": "IndexError",
     "evalue": "list index out of range",
     "output_type": "error",
     "traceback": [
      "\u001b[0;31m---------------------------------------------------------------------------\u001b[0m",
      "\u001b[0;31mIndexError\u001b[0m                                Traceback (most recent call last)",
      "\u001b[0;32m/var/folders/z3/5_ztlfs5659bbghbwzm03kdr0000gp/T/ipykernel_97884/625491945.py\u001b[0m in \u001b[0;36m<module>\u001b[0;34m\u001b[0m\n\u001b[1;32m      8\u001b[0m     \u001b[0mtime\u001b[0m\u001b[0;34m.\u001b[0m\u001b[0msleep\u001b[0m\u001b[0;34m(\u001b[0m\u001b[0;36m0.4\u001b[0m\u001b[0;34m)\u001b[0m\u001b[0;34m\u001b[0m\u001b[0;34m\u001b[0m\u001b[0m\n\u001b[1;32m      9\u001b[0m \u001b[0;34m\u001b[0m\u001b[0m\n\u001b[0;32m---> 10\u001b[0;31m \u001b[0mquick_plot\u001b[0m\u001b[0;34m(\u001b[0m\u001b[0;36m0\u001b[0m\u001b[0;34m,\u001b[0m\u001b[0;36m0\u001b[0m\u001b[0;34m)\u001b[0m\u001b[0;34m\u001b[0m\u001b[0;34m\u001b[0m\u001b[0m\n\u001b[0m",
      "\u001b[0;32m/var/folders/z3/5_ztlfs5659bbghbwzm03kdr0000gp/T/ipykernel_97884/625491945.py\u001b[0m in \u001b[0;36mquick_plot\u001b[0;34m(index, experiment)\u001b[0m\n\u001b[1;32m      1\u001b[0m \u001b[0;32mdef\u001b[0m \u001b[0mquick_plot\u001b[0m\u001b[0;34m(\u001b[0m\u001b[0mindex\u001b[0m\u001b[0;34m,\u001b[0m \u001b[0mexperiment\u001b[0m\u001b[0;34m)\u001b[0m\u001b[0;34m:\u001b[0m\u001b[0;34m\u001b[0m\u001b[0;34m\u001b[0m\u001b[0m\n\u001b[0;32m----> 2\u001b[0;31m     \u001b[0mrun\u001b[0m \u001b[0;34m=\u001b[0m \u001b[0mdata\u001b[0m\u001b[0;34m[\u001b[0m\u001b[0mindex\u001b[0m\u001b[0;34m]\u001b[0m\u001b[0;34m\u001b[0m\u001b[0;34m\u001b[0m\u001b[0m\n\u001b[0m\u001b[1;32m      3\u001b[0m     \u001b[0mprint\u001b[0m\u001b[0;34m(\u001b[0m\u001b[0mlen\u001b[0m\u001b[0;34m(\u001b[0m\u001b[0mrun\u001b[0m\u001b[0;34m[\u001b[0m\u001b[0;34m\"pred_ys\"\u001b[0m\u001b[0;34m]\u001b[0m\u001b[0;34m[\u001b[0m\u001b[0;36m0\u001b[0m\u001b[0;34m]\u001b[0m\u001b[0;34m)\u001b[0m\u001b[0;34m,\u001b[0m \u001b[0mlen\u001b[0m\u001b[0;34m(\u001b[0m\u001b[0mrun\u001b[0m\u001b[0;34m[\u001b[0m\u001b[0;34m\"true_ys\"\u001b[0m\u001b[0;34m]\u001b[0m\u001b[0;34m[\u001b[0m\u001b[0;36m0\u001b[0m\u001b[0;34m]\u001b[0m\u001b[0;34m)\u001b[0m\u001b[0;34m)\u001b[0m\u001b[0;34m\u001b[0m\u001b[0;34m\u001b[0m\u001b[0m\n\u001b[1;32m      4\u001b[0m     \u001b[0mprint\u001b[0m\u001b[0;34m(\u001b[0m\u001b[0mrun\u001b[0m\u001b[0;34m[\u001b[0m\u001b[0;34m\"pred_ys\"\u001b[0m\u001b[0;34m]\u001b[0m\u001b[0;34m[\u001b[0m\u001b[0;36m0\u001b[0m\u001b[0;34m]\u001b[0m\u001b[0;34m.\u001b[0m\u001b[0mshape\u001b[0m\u001b[0;34m)\u001b[0m\u001b[0;34m\u001b[0m\u001b[0;34m\u001b[0m\u001b[0m\n\u001b[1;32m      5\u001b[0m     \u001b[0mprint\u001b[0m\u001b[0;34m(\u001b[0m\u001b[0mrun\u001b[0m\u001b[0;34m[\u001b[0m\u001b[0;34m\"true_ys\"\u001b[0m\u001b[0;34m]\u001b[0m\u001b[0;34m[\u001b[0m\u001b[0;36m0\u001b[0m\u001b[0;34m]\u001b[0m\u001b[0;34m.\u001b[0m\u001b[0mshape\u001b[0m\u001b[0;34m)\u001b[0m\u001b[0;34m\u001b[0m\u001b[0;34m\u001b[0m\u001b[0m\n",
      "\u001b[0;31mIndexError\u001b[0m: list index out of range"
     ]
    }
   ],
   "source": [
    "def quick_plot(index, experiment):\n",
    "    run = data[index]\n",
    "    print(len(run[\"pred_ys\"][0]), len(run[\"true_ys\"][0]))\n",
    "    print(run[\"pred_ys\"][0].shape)\n",
    "    print(run[\"true_ys\"][0].shape)\n",
    "    #plt.plot(run[\"pred_ys\"][experiment], color = \"blue\", alpha = 0.5)\n",
    "    plt.plot(run[\"true_ys\"][experiment], color = 'red', alpha = 0.5)\n",
    "    time.sleep(0.4)\n",
    "\n",
    "quick_plot(0,0)"
   ]
  },
  {
   "cell_type": "code",
   "execution_count": null,
   "id": "5526fc74",
   "metadata": {},
   "outputs": [],
   "source": [
    "def subset_data(dictt, keys_to_extract = [\"scores\", \"bundles\", \"forces\"]):\n",
    "    return  {key: dictt[key] for key in keys_to_extract}\n",
    "    "
   ]
  },
  {
   "cell_type": "code",
   "execution_count": null,
   "id": "42270682",
   "metadata": {},
   "outputs": [],
   "source": [
    "score_dicts = [subset_data(dat) for dat in data]\n"
   ]
  },
  {
   "cell_type": "code",
   "execution_count": null,
   "id": "30e795e6",
   "metadata": {},
   "outputs": [],
   "source": [
    "df = pd.DataFrame(score_dicts)\n",
    "df = df.explode('scores').reset_index(drop=True)\n",
    "df[\"scores\"] = df[\"scores\"].apply(float)\n",
    "df"
   ]
  },
  {
   "cell_type": "code",
   "execution_count": null,
   "id": "b33fa77c",
   "metadata": {},
   "outputs": [],
   "source": [
    "import seaborn as sns\n",
    "import matplotlib.pyplot as plt\n",
    "df[\"log_scores\"] = np.log10(df[\"scores\"])"
   ]
  },
  {
   "cell_type": "code",
   "execution_count": null,
   "id": "bc3c55ea",
   "metadata": {},
   "outputs": [],
   "source": [
    "sns.violinplot(x = \"bundles\", y = \"log_scores\", data = df)\n",
    "#plt.yscale('log')"
   ]
  },
  {
   "cell_type": "code",
   "execution_count": null,
   "id": "8ccaa368",
   "metadata": {},
   "outputs": [],
   "source": [
    "sns.violinplot(x = \"forces\", y = \"log_scores\", data = df)"
   ]
  },
  {
   "cell_type": "code",
   "execution_count": null,
   "id": "7ca30031",
   "metadata": {},
   "outputs": [],
   "source": [
    "sns.lineplot(x = \"bundles\", y = \"log_scores\", data = df.groupby(\"bundles\").mean())"
   ]
  },
  {
   "cell_type": "code",
   "execution_count": null,
   "id": "c95c2e71",
   "metadata": {},
   "outputs": [],
   "source": [
    "np.inf"
   ]
  },
  {
   "cell_type": "code",
   "execution_count": null,
   "id": "db3b35f6",
   "metadata": {},
   "outputs": [],
   "source": [
    "#df.pivot(\"forces\", \"bundles\", \"scores\")"
   ]
  },
  {
   "cell_type": "code",
   "execution_count": null,
   "id": "7bb47a99",
   "metadata": {},
   "outputs": [],
   "source": [
    "sns.kdeplot(\n",
    "    data=df, x=\"forces\", y=\"bundles\", size=\"log_scores\", #fill=True,\n",
    ")"
   ]
  },
  {
   "cell_type": "code",
   "execution_count": null,
   "id": "700489e1",
   "metadata": {},
   "outputs": [],
   "source": [
    "sns.scatterplot( data=df, x=\"bundles\", y =\"log_scores\", hue = \"forces\")\n",
    "sns.lineplot( data=df, x=\"bundles\", y =\"log_scores\")#, hue = \"forces\")"
   ]
  },
  {
   "cell_type": "code",
   "execution_count": null,
   "id": "e3b8bbef",
   "metadata": {},
   "outputs": [],
   "source": [
    "sns.scatterplot( data=df, x=\"forces\", y =\"log_scores\", hue = \"forces\")\n",
    "sns.lineplot( data=df, x=\"forces\", y =\"log_scores\")#, hue = \"forces\")"
   ]
  },
  {
   "cell_type": "code",
   "execution_count": null,
   "id": "29ccf5ea",
   "metadata": {},
   "outputs": [],
   "source": [
    "import re, seaborn as sns\n",
    "import numpy as np\n",
    "\n",
    "from matplotlib import pyplot as plt\n",
    "from mpl_toolkits.mplot3d import Axes3D\n",
    "from matplotlib.colors import ListedColormap\n",
    "\n",
    "# generate data\n",
    "n = 200\n",
    "x = df[\"bundles\"].values#np.random.uniform(1, 20, size=n)\n",
    "y = df[\"forces\"].values\n",
    "z = df[\"log_scores\"].values\n",
    "\n",
    "# axes instance\n",
    "fig = plt.figure(figsize=(6,6))\n",
    "ax = Axes3D(fig, auto_add_to_figure=False)\n",
    "fig.add_axes(ax)\n",
    "\n",
    "# get colormap from seaborn\n",
    "cmap = ListedColormap(sns.color_palette(\"husl\", 256).as_hex())\n",
    "\n",
    "# plot\n",
    "sc = ax.scatter(x, y, z, s=40, c=x, marker='o', cmap=cmap, alpha=1)\n",
    "ax.set_xlabel('X Label')\n",
    "ax.set_ylabel('Y Label')\n",
    "ax.set_zlabel('Z Label')\n",
    "\n",
    "# legend\n",
    "plt.legend(*sc.legend_elements(), bbox_to_anchor=(1.05, 1), loc=2)\n",
    "\n",
    "# save\n",
    "plt.savefig(\"scatter_hue\", bbox_inches='tight')"
   ]
  },
  {
   "cell_type": "code",
   "execution_count": null,
   "id": "161780bf",
   "metadata": {},
   "outputs": [],
   "source": []
  }
 ],
 "metadata": {
  "kernelspec": {
   "display_name": "pytorch_env",
   "language": "python",
   "name": "pytorch_env"
  },
  "language_info": {
   "codemirror_mode": {
    "name": "ipython",
    "version": 3
   },
   "file_extension": ".py",
   "mimetype": "text/x-python",
   "name": "python",
   "nbconvert_exporter": "python",
   "pygments_lexer": "ipython3",
   "version": "3.8.12"
  }
 },
 "nbformat": 4,
 "nbformat_minor": 5
}
