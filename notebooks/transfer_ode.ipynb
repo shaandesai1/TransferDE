{
 "cells": [
  {
   "cell_type": "code",
   "execution_count": 1,
   "id": "tracked-chassis",
   "metadata": {},
   "outputs": [],
   "source": [
    "#!pip install transfer_ode\n"
   ]
  },
  {
   "cell_type": "code",
   "execution_count": 2,
   "id": "offshore-techno",
   "metadata": {},
   "outputs": [],
   "source": [
    "import torch\n",
    "import torch.nn as nn\n",
    "import argparse\n",
    "import torch.optim as optim\n",
    "import numpy as np\n",
    "import time\n",
    "import matplotlib.pyplot as plt\n",
    "from sklearn.decomposition import PCA\n",
    "from sklearn.preprocessing import MinMaxScaler\n",
    "from torchdiffeq import odeint_adjoint as odeint\n",
    "from mpl_toolkits.mplot3d import Axes3D\n",
    "import random\n",
    "\n",
    "\n",
    "class Args:\n",
    "    def __init__(self):\n",
    "        pass \n",
    "    def assign(self,args):\n",
    "        for key, val in args.items():\n",
    "            if key != 'self':\n",
    "                setattr(self, key, val)"
   ]
  },
  {
   "cell_type": "code",
   "execution_count": 3,
   "id": "resistant-peace",
   "metadata": {},
   "outputs": [],
   "source": [
    "import transfer_ode as tode\n",
    "#tode.odeint = odeint"
   ]
  },
  {
   "cell_type": "code",
   "execution_count": 4,
   "id": "characteristic-great",
   "metadata": {},
   "outputs": [],
   "source": [
    "ADJOINT = False\n",
    "if ADJOINT:\n",
    "    from torchdiffeq import odeint_adjoint as odeint\n",
    "else:\n",
    "    from torchdiffeq import odeint"
   ]
  },
  {
   "cell_type": "code",
   "execution_count": 5,
   "id": "tired-heading",
   "metadata": {},
   "outputs": [],
   "source": [
    "import types\n",
    "def assign_args(args_):\n",
    "    for arg, val in args_.items():\n",
    "        fs = []\n",
    "        for f in globals().values():\n",
    "            if type(f) == types.FunctionType:\n",
    "                #print(f)\n",
    "                try:\n",
    "                    #print(f.args)\n",
    "                    f.args = args\n",
    "                except:\n",
    "                    fs.append(f)\n",
    "                    \n",
    "                    #print(f'f, {id(f)}')\n",
    "        for f in fs:\n",
    "            #print(f'f, {id(f)}')\n",
    "            f.__globals__[arg] = val\n",
    "                    #f.__globals__[\"NDIMZ\"] = args.hidden_size"
   ]
  },
  {
   "cell_type": "code",
   "execution_count": 6,
   "id": "assigned-strap",
   "metadata": {},
   "outputs": [],
   "source": [
    "#assign_args({\"hu\": 1})"
   ]
  },
  {
   "cell_type": "code",
   "execution_count": 7,
   "id": "combined-throat",
   "metadata": {},
   "outputs": [],
   "source": [
    "# import sys,os,argparse\n",
    "# from IPython.display import HTML\n",
    "# CONFIG_FILE = '.config_ipynb'\n",
    "# if os.path.isfile(CONFIG_FILE):\n",
    "#     with open(CONFIG_FILE) as f:\n",
    "#         sys.argv = f.read().split()\n",
    "# else:\n",
    "#     sys.argv = ['test_args.py', 'input_file', '--int_param', '12']\n",
    "\n",
    "# parser = argparse.ArgumentParser('NeuralODE transfer demo')\n",
    "# parser.add_argument('--method', type=str, choices=['dopri5', 'adams'], default='dopri5')\n",
    "# parser.add_argument('--tmax', type=float, default=5.)\n",
    "# parser.add_argument('--dt', type=int, default=0.1)\n",
    "\n",
    "# parser.add_argument('--method_rc', type=str, choices=['euler'], default='euler')\n",
    "# parser.add_argument('--wout', type=str, default='analytic')\n",
    "# parser.add_argument('--paramg', type=str, default='lin')\n",
    "\n",
    "# parser.add_argument('--niters', type=int, default=100)\n",
    "# parser.add_argument('--hidden_size', type=int, default=200)\n",
    "\n",
    "# parser.add_argument('--test_freq', type=int, default=1)\n",
    "\n",
    "# parser.add_argument('--viz', action='store_false')\n",
    "# parser.add_argument('--gpu', type=int, default=0)\n",
    "# parser.add_argument('--adjoint', action='store_false')\n",
    "# args = parser.parse_args()\n",
    "# p = args.int_param\n",
    "# print(args.input_file,p)"
   ]
  },
  {
   "cell_type": "code",
   "execution_count": 8,
   "id": "handled-delta",
   "metadata": {},
   "outputs": [],
   "source": [
    "def assign_vars(func, key, val):\n",
    "    func.__globals__[key] = val"
   ]
  },
  {
   "cell_type": "code",
   "execution_count": null,
   "id": "convertible-retro",
   "metadata": {},
   "outputs": [],
   "source": []
  },
  {
   "cell_type": "code",
   "execution_count": 9,
   "id": "blond-beijing",
   "metadata": {},
   "outputs": [],
   "source": [
    "def LinOut(args, wout_gen, s, sd, true_y0, t):\n",
    "    \n",
    "    if args.wout == \"analytic\":\n",
    "        \n",
    "        wout, bias = wout_gen.get_wout(s.detach(),sd.detach(), true_y0, t)\n",
    "    \n",
    "    elif args.wout == \"learned\":\n",
    "        \n",
    "        wout, bias = wout_gen.get_wout()\n",
    "        \n",
    "    return wout, bias"
   ]
  },
  {
   "cell_type": "code",
   "execution_count": 10,
   "id": "increased-pointer",
   "metadata": {},
   "outputs": [],
   "source": [
    "def optimize(a0 = lambda t: t**2,#-(5./t + t)#-3*t**2\n",
    "             a1 = lambda t:1 + 0.*t,\n",
    "             f = lambda t: torch.sin(t),#t**6#3*t**2#torch.sin(t)\n",
    "             ics = torch.tensor(np.arange(-2, 2.9, 0.25), dtype = torch.float32),#torch.linspace(-7.,7.,200),\n",
    "             method : str = \"dopri5\", \n",
    "             tmax : float = 5,\n",
    "             #dt   : int   = 0.01,\n",
    "             method_rc: str = \"euler\",\n",
    "             wout : str = \"analytic\",\n",
    "             paramg : str = \"lin\",\n",
    "             niters : int = 100,\n",
    "             hidden_size : int = 200,\n",
    "             test_freq : int = 1,\n",
    "             viz = False,#'store_false',\n",
    "             gpu : int = 0,\n",
    "             adjoint = 'store_false',\n",
    "             random_sampling = True,\n",
    "             n_timepoints = 50,\n",
    "             regularization = 700,\n",
    "             l1_reg_strength = 0\n",
    "            ):\n",
    "    args = Args()\n",
    "    \n",
    "    args.assign(locals())\n",
    "    tode.args = args\n",
    "    #assign_args({\"args\": args})\n",
    "    \n",
    "    dt=tmax/n_timepoints\n",
    "    \n",
    "    \n",
    "    globals()[\"args\"] = args\n",
    "    \n",
    "    print(args)\n",
    "    ii = 0\n",
    "    NDIMZ = args.hidden_size\n",
    "    \n",
    "    \n",
    "    assign_vars(tode.compute_s_sdot, \"args\", args)\n",
    "    assign_vars(tode.compute_s_sdot, \"NDIMZ\", NDIMZ)\n",
    "    \n",
    "    \n",
    "    #tode.args = args\n",
    "    \n",
    "    \n",
    "    #assign_args({\"NDIMZ\": NDIMZ})\n",
    "    \n",
    "    # define coefficients as lambda functions, used for gt and wout_analytic\n",
    "    \n",
    "\n",
    "    diffeq_init = tode.diffeq(a0,a1,f)\n",
    "    gt_generator = tode.base_diffeq(diffeq_init)\n",
    "    estim_generator = tode.estim_diffeq(diffeq_init)\n",
    "    true_y0 = torch.tensor([[5.]])\n",
    "    if not random_sampling:\n",
    "        t = torch.arange(0.,args.tmax,args.dt)\n",
    "    else:\n",
    "        t = torch.rand(n_timepoints) *tmax\n",
    "        t = t.sort().values\n",
    "    \n",
    "    t = t.reshape(-1,1)\n",
    "    \n",
    "    assign_vars(tode.compute_s_sdot, \"t\", t)\n",
    "    assign_args({\"t\": t})\n",
    "\n",
    "    true_y = gt_generator.get_solution(true_y0,t.ravel())\n",
    "\n",
    "    # wout generator\n",
    "    if args.wout == 'analytic':\n",
    "        wout_gen = tode.Transformer_Analytic(a0, a1, f, regularization)\n",
    "    elif args.wout == 'learned':\n",
    "        #optimizer = optim.Adam(func.parameters(),lr=1e-5)\n",
    "        wout_gen = tode.Transformer_Learned(NDIMZ, true_y0.shape[1])\n",
    "    \n",
    "    # hidden state generator\n",
    "    func = tode.ODEFunc(NDIMZ)\n",
    "    # func.upper.weight\n",
    "\n",
    "    #if args.wout  == 'analytic':\n",
    "    optimizer = optim.Adam(func.parameters(),lr=1e-5)\n",
    "    #     elif args.wout == 'learned':\n",
    "    #         optimizer = optim.Adam(func.parameters(), lr=1e-3, weight_decay=1e-6)\n",
    "    #     #     optimizer = optim.SGD([\n",
    "    #         {'params': func.parameters()},\n",
    "    #         {'params': wout_gen.parameters(), 'lr': 1e-4, 'weight_decay': 1e-3}\n",
    "    #     ], lr=1e-3)\n",
    "\n",
    "\n",
    "    # true_y0 = torch.tensor([[3.]])\n",
    "    param = tode.Parametrization(args.paramg)\n",
    "    zinit_ = torch.ones(NDIMZ).reshape(1, NDIMZ)\n",
    "    loss_collector = []\n",
    "    for itr in range(1, args.niters + 1):\n",
    "        \n",
    "        \n",
    "        \n",
    "        optimizer.zero_grad()\n",
    "\n",
    "        zinit = func.get_z0(zinit_)\n",
    "        #print(f'f, {id(tode.compute_s_sdot)}')\n",
    "        s,sd = tode.compute_s_sdot(func,zinit,t,param)\n",
    "        \n",
    "        # print(s[0],sd[0])\n",
    "        # if (itr-1)%200==0:\n",
    "        wout, bias = wout_gen.get_wout(s.detach(),sd.detach(), true_y0, t)\n",
    "        #print(f'bias: {bias}')\n",
    "\n",
    "        # wout = torch.ones(100,1)\n",
    "        # wout = wout_gen.get_wout(s.detach(), sd.detach(), true_y0, t)\n",
    "        # print(wout)\n",
    "        # wout = wout.detach()\n",
    "\n",
    "        pred_y = true_y0 + torch.mm(s, wout) + bias\n",
    "        pred_ydot = torch.mm(sd, wout)\n",
    "        lst = (a1(t).reshape(-1,1))*pred_ydot + (a0(t).reshape(-1,1))*pred_y - f(t).reshape(-1,1)\n",
    "        # lst = wout-1.\n",
    "        # l2_reg = None\n",
    "        l1_reg = torch.linalg.norm(wout.abs())\n",
    "\n",
    "        # for name,paramss in func.named_parameters():\n",
    "        #     if name == 'upper.weight':\n",
    "        #         # print(paramss)\n",
    "        #         l2_reg = torch.sum(torch.abs(paramss))\n",
    "        # print(func.upper.weight.detach().cpu().numpy())\n",
    "        # print(l2_reg)\n",
    "        loss = torch.mean(torch.square(lst)) + l1*l1_reg\n",
    "        loss.backward()\n",
    "        optimizer.step()\n",
    "        loss_collector.append(torch.square(lst).mean().item())\n",
    "        if itr % args.test_freq == 0:\n",
    "            # print(loss.item())\n",
    "            with torch.no_grad():\n",
    "                #print(f'f, {id(tode.compute_s_sdot)}')\n",
    "                s, sd = tode.compute_s_sdot(func, zinit, t, param)\n",
    "                \n",
    "\n",
    "                wout, bias = wout_gen.get_wout(s, sd, true_y0, t)\n",
    "                #     # wout = torch.ones(100, 1)\n",
    "                #\n",
    "                # elif args.wout == 'learned':\n",
    "                #     wout = wout_gen.get_wout()\n",
    "\n",
    "                pred_y = true_y0[0,0].reshape(1, 1) + torch.mm(s, wout)[:,0] + bias\n",
    "                pred_y = pred_y.reshape(-1,1,1)\n",
    "                # loss = torch.mean(torch.abs(pred_y - true_y))\n",
    "                # print('Iter {:04d} | Total Loss {:.6f}'.format(itr, loss.item()))\n",
    "                tode.visualize(true_y, pred_y, func, ii,loss_collector,s)\n",
    "                ii += 1\n",
    "\n",
    "\n",
    "\n",
    "        # torch.save(func.state_dict(), 'func_dict_wout')\n",
    "\n",
    "    with torch.no_grad():\n",
    "\n",
    "        s, sd = tode.compute_s_sdot(func, zinit, t, param)\n",
    "        #inference for other ICs\n",
    "        #ics = torch.linspace(-7.,7.,200)\n",
    "\n",
    "\n",
    "        # results_df = np.zeros((len(ics),6))\n",
    "        y0 = ics.reshape(1,-1)\n",
    "        s1 = time.time()\n",
    "        wout, bias = wout_gen.get_wout(s, sd, y0, t)\n",
    "        pred_y = y0 + torch.mm(s, wout) + bias\n",
    "        s2 = time.time()\n",
    "        print(f'all_ics:{s2-s1}')\n",
    "\n",
    "        \n",
    "        rmsr = 0.\n",
    "        true_ys= torch.zeros(len(pred_y),len(ics))\n",
    "        estim_ys = torch.zeros(len(pred_y), len(ics))\n",
    "        # print(true_ys.shape)\n",
    "        s1 = time.time()\n",
    "        # y0 = ic.reshape(1,1)\n",
    "        true_y = gt_generator.get_solution(y0.reshape(-1,1),t.ravel())\n",
    "        true_ys = true_y.reshape(len(pred_y),len(ics))\n",
    "        s2 = time.time()\n",
    "        print(f'gt_ics:{s2 - s1}')\n",
    "\n",
    "        s1 = time.time()\n",
    "        # for ic_index, ic in enumerate(ics):\n",
    "        #     y0 = ic.reshape(1, 1)\n",
    "        true_y = estim_generator.get_solution(y0.reshape(-1,1), t.ravel())\n",
    "        estim_ys = true_y.reshape(len(pred_y),len(ics))\n",
    "        s2 = time.time()\n",
    "        \n",
    "        prediction_residuals = ((pred_y - true_ys) ** 2)\n",
    "        estimation_residuals = ((estim_ys - true_ys) ** 2)\n",
    "        \n",
    "        #print(f'estim_ics:{s2 - s1}')\n",
    "        print(f'prediction mse:{prediction_residuals.mean()} pm {prediction_residuals.std()}')\n",
    "        #print(f'estim mse {estimation_residuals.mean()} pm {estimation_residuals.std()}')\n",
    "        visualize_ = False\n",
    "        if visualize_:\n",
    "            fig,ax = plt.subplots(1,3,figsize=(15,4))\n",
    "            plt.sca(ax[0])\n",
    "            pred, gt, estim = pred_y, true_ys, estim_ys\n",
    "            plt.plot(gt, alpha = 0.3, color = \"red\")\n",
    "            plt.plot(pred, alpha = 0.3, color = \"blue\")\n",
    "            #plt.plot(estim, alpha = 0.3, color = \"green\")\n",
    "            plt.sca(ax[1])\n",
    "            plt.plot(prediction_residuals, alpha = 0.1, color = \"red\")\n",
    "            #plt.plot(prediction_residuals, alpha = 0.1, color = \"red\")\n",
    "            plt.yscale(\"log\")\n",
    "            \n",
    "        score = prediction_residuals.mean()\n",
    "        return score, pred_y, true_y, estim_ys"
   ]
  },
  {
   "cell_type": "code",
   "execution_count": null,
   "id": "local-chester",
   "metadata": {},
   "outputs": [],
   "source": []
  },
  {
   "cell_type": "code",
   "execution_count": 11,
   "id": "opposite-truck",
   "metadata": {},
   "outputs": [
    {
     "name": "stdout",
     "output_type": "stream",
     "text": [
      "<__main__.Args object at 0x7f9058b2f9d0>\n",
      "all_ics:0.002653837203979492\n",
      "gt_ics:0.12656021118164062\n",
      "prediction mse:0.0013279332779347897 pm 0.0035581865813583136\n",
      "<__main__.Args object at 0x7f90c8848c70>\n",
      "all_ics:0.0025787353515625\n",
      "gt_ics:0.14402413368225098\n",
      "prediction mse:0.00033040984999388456 pm 0.0008460157550871372\n",
      "<__main__.Args object at 0x7f90c88485e0>\n",
      "all_ics:0.002515077590942383\n",
      "gt_ics:0.1261000633239746\n",
      "prediction mse:0.000988996820524335 pm 0.002561078406870365\n",
      "<__main__.Args object at 0x7f9080191550>\n",
      "all_ics:0.0030629634857177734\n",
      "gt_ics:0.1319739818572998\n",
      "prediction mse:0.000964207632932812 pm 0.0028824566397815943\n",
      "<__main__.Args object at 0x7f90c88483d0>\n",
      "all_ics:0.0023660659790039062\n",
      "gt_ics:0.14025592803955078\n",
      "prediction mse:0.00040388351771980524 pm 0.0011323749786242843\n",
      "CPU times: user 3min 45s, sys: 33 s, total: 4min 18s\n",
      "Wall time: 3min 35s\n"
     ]
    }
   ],
   "source": [
    "%%time\n",
    "losses_l1 = []\n",
    "for l1 in [0.0001, 0.001, 0.01, 0.1, 0]:\n",
    "    score, pred, gt, estim  = optimize(a0 = lambda t: t**2,#-(5./t + t)#-3*t**2\n",
    "                                a1 = lambda t:1 + 0.*t,\n",
    "                                f = lambda t: torch.sin(t),\n",
    "                                n_timepoints = 500,\n",
    "                                regularization = 20,\n",
    "                                l1_reg_strength = l1)\n",
    "    data_point = {\"score\" : float(score), \"l1_reg\" : l1}\n",
    "    losses_l1.append(data_point) #[str(l1)] = (score)"
   ]
  },
  {
   "cell_type": "code",
   "execution_count": 12,
   "id": "treated-terry",
   "metadata": {},
   "outputs": [
    {
     "data": {
      "image/png": "[encoded data removed]",
      "text/plain": [
       "<Figure size 432x288 with 1 Axes>"
      ]
     },
     "metadata": {
      "needs_background": "light"
     },
     "output_type": "display_data"
    }
   ],
   "source": [
    "import pandas as pd\n",
    "import seaborn as sns\n",
    "df = pd.DataFrame(losses_l1)\n",
    "sns.barplot(data = df, x = \"l1_reg\", y = \"score\")\n",
    "plt.yscale(\"log\")"
   ]
  },
  {
   "cell_type": "code",
   "execution_count": 13,
   "id": "popular-leeds",
   "metadata": {},
   "outputs": [
    {
     "name": "stdout",
     "output_type": "stream",
     "text": [
      "<__main__.Args object at 0x7f9058c46550>\n",
      "all_ics:0.0005822181701660156\n",
      "gt_ics:0.10233902931213379\n",
      "prediction mse:0.02143574133515358 pm 0.06906456500291824\n",
      "<__main__.Args object at 0x7f9058c4e100>\n",
      "all_ics:0.0008671283721923828\n",
      "gt_ics:0.11440086364746094\n",
      "prediction mse:0.004318441729992628 pm 0.01119331642985344\n",
      "<__main__.Args object at 0x7f9058c4e430>\n",
      "all_ics:0.0010449886322021484\n",
      "gt_ics:0.12088584899902344\n",
      "prediction mse:0.001108609838411212 pm 0.0037482401821762323\n",
      "<__main__.Args object at 0x7f9058c4e0d0>\n",
      "all_ics:0.0007321834564208984\n",
      "gt_ics:0.11633682250976562\n",
      "prediction mse:0.0011738816974684596 pm 0.003678813111037016\n",
      "<__main__.Args object at 0x7f9080e320a0>\n",
      "all_ics:0.0008661746978759766\n",
      "gt_ics:0.1214909553527832\n",
      "prediction mse:0.0024896503891795874 pm 0.005368334706872702\n",
      "<__main__.Args object at 0x7f9058c4e4c0>\n",
      "all_ics:0.00090789794921875\n",
      "gt_ics:0.10860180854797363\n",
      "prediction mse:0.012959960848093033 pm 0.04253804311156273\n",
      "<__main__.Args object at 0x7f9088dfb3d0>\n",
      "all_ics:0.0007412433624267578\n",
      "gt_ics:0.11099791526794434\n",
      "prediction mse:0.02682616002857685 pm 0.04699307307600975\n",
      "<__main__.Args object at 0x7f9058c4e1f0>\n",
      "all_ics:0.0008602142333984375\n",
      "gt_ics:0.12718915939331055\n",
      "prediction mse:0.001835374510847032 pm 0.006712167523801327\n",
      "<__main__.Args object at 0x7f90787944f0>\n",
      "all_ics:0.0007929801940917969\n",
      "gt_ics:0.12125802040100098\n",
      "prediction mse:0.0025008844677358866 pm 0.007019906770437956\n",
      "<__main__.Args object at 0x7f9078794b20>\n",
      "all_ics:0.0007560253143310547\n",
      "gt_ics:0.12267112731933594\n",
      "prediction mse:0.001743091968819499 pm 0.006441829726099968\n",
      "CPU times: user 42.5 s, sys: 2.75 s, total: 45.2 s\n",
      "Wall time: 43.5 s\n"
     ]
    }
   ],
   "source": [
    "%%time\n",
    "losses_l2 = []\n",
    "for l2 in [0, 0.001, 0.01, 0.1, 1, 5, 10, 50, 100, 1000]:\n",
    "    score, pred, gt, estim  = optimize(a0 = lambda t: t**2,#-(5./t + t)#-3*t**2\n",
    "                                a1 = lambda t:1 + 0.*t,\n",
    "                                f = lambda t: torch.sin(t),\n",
    "                                n_timepoints = 50,\n",
    "                                regularization = 20,\n",
    "                                l1_reg_strength = 0.0001)\n",
    "    data_point = {\"score\" : float(score), \"l2_reg\" : l2}\n",
    "    losses_l2.append(data_point) #[str(l1)] = (score)"
   ]
  },
  {
   "cell_type": "code",
   "execution_count": 14,
   "id": "planned-original",
   "metadata": {},
   "outputs": [
    {
     "data": {
      "text/html": [
       "<div>\n",
       "<style scoped>\n",
       "    .dataframe tbody tr th:only-of-type {\n",
       "        vertical-align: middle;\n",
       "    }\n",
       "\n",
       "    .dataframe tbody tr th {\n",
       "        vertical-align: top;\n",
       "    }\n",
       "\n",
       "    .dataframe thead th {\n",
       "        text-align: right;\n",
       "    }\n",
       "</style>\n",
       "<table border=\"1\" class=\"dataframe\">\n",
       "  <thead>\n",
       "    <tr style=\"text-align: right;\">\n",
       "      <th></th>\n",
       "      <th>score</th>\n",
       "      <th>l2_reg</th>\n",
       "    </tr>\n",
       "  </thead>\n",
       "  <tbody>\n",
       "    <tr>\n",
       "      <th>0</th>\n",
       "      <td>0.021436</td>\n",
       "      <td>0.000</td>\n",
       "    </tr>\n",
       "    <tr>\n",
       "      <th>1</th>\n",
       "      <td>0.004318</td>\n",
       "      <td>0.001</td>\n",
       "    </tr>\n",
       "    <tr>\n",
       "      <th>2</th>\n",
       "      <td>0.001109</td>\n",
       "      <td>0.010</td>\n",
       "    </tr>\n",
       "    <tr>\n",
       "      <th>3</th>\n",
       "      <td>0.001174</td>\n",
       "      <td>0.100</td>\n",
       "    </tr>\n",
       "    <tr>\n",
       "      <th>4</th>\n",
       "      <td>0.002490</td>\n",
       "      <td>1.000</td>\n",
       "    </tr>\n",
       "  </tbody>\n",
       "</table>\n",
       "</div>"
      ],
      "text/plain": [
       "      score  l2_reg\n",
       "0  0.021436   0.000\n",
       "1  0.004318   0.001\n",
       "2  0.001109   0.010\n",
       "3  0.001174   0.100\n",
       "4  0.002490   1.000"
      ]
     },
     "execution_count": 14,
     "metadata": {},
     "output_type": "execute_result"
    }
   ],
   "source": [
    "df = pd.DataFrame(losses_l2)\n",
    "df.head()"
   ]
  },
  {
   "cell_type": "code",
   "execution_count": 15,
   "id": "brown-think",
   "metadata": {},
   "outputs": [
    {
     "data": {
      "image/png": "[encoded data removed]",
      "text/plain": [
       "<Figure size 432x288 with 1 Axes>"
      ]
     },
     "metadata": {
      "needs_background": "light"
     },
     "output_type": "display_data"
    }
   ],
   "source": [
    "import pandas as pd\n",
    "\n",
    "sns.barplot(data = df, x = \"l2_reg\", y = \"score\")\n",
    "plt.yscale(\"log\")"
   ]
  },
  {
   "cell_type": "code",
   "execution_count": 16,
   "id": "cubic-orange",
   "metadata": {},
   "outputs": [
    {
     "ename": "TypeError",
     "evalue": "optimize() got an unexpected keyword argument 'visualize_'",
     "output_type": "error",
     "traceback": [
      "\u001b[0;31m---------------------------------------------------------------------------\u001b[0m",
      "\u001b[0;31mTypeError\u001b[0m                                 Traceback (most recent call last)",
      "\u001b[0;32m<timed exec>\u001b[0m in \u001b[0;36m<module>\u001b[0;34m\u001b[0m\n",
      "\u001b[0;31mTypeError\u001b[0m: optimize() got an unexpected keyword argument 'visualize_'"
     ]
    }
   ],
   "source": [
    "%%time\n",
    "score, pred, gt, estim  = optimize(a0 = lambda t: t**2,#-(5./t + t)#-3*t**2\n",
    "                            a1 = lambda t:1 + 0.*t,\n",
    "                            f = lambda t: torch.sin(t),\n",
    "                            n_timepoints = 500,\n",
    "                            regularization = 5,\n",
    "                            #l1_reg_strength = 0.0001,\n",
    "                            visualize_ = True)"
   ]
  },
  {
   "cell_type": "code",
   "execution_count": 17,
   "id": "opposed-google",
   "metadata": {},
   "outputs": [
    {
     "name": "stdout",
     "output_type": "stream",
     "text": [
      "<__main__.Args object at 0x7f9088efe9d0>\n"
     ]
    },
    {
     "ename": "TypeError",
     "evalue": "get_wout() takes 1 positional argument but 5 were given",
     "output_type": "error",
     "traceback": [
      "\u001b[0;31m---------------------------------------------------------------------------\u001b[0m",
      "\u001b[0;31mTypeError\u001b[0m                                 Traceback (most recent call last)",
      "\u001b[0;32m<timed exec>\u001b[0m in \u001b[0;36m<module>\u001b[0;34m\u001b[0m\n",
      "\u001b[0;32m<ipython-input-10-84a6c550bc6f>\u001b[0m in \u001b[0;36moptimize\u001b[0;34m(a0, a1, f, ics, method, tmax, method_rc, wout, paramg, niters, hidden_size, test_freq, viz, gpu, adjoint, random_sampling, n_timepoints, regularization, l1_reg_strength)\u001b[0m\n\u001b[1;32m    102\u001b[0m         \u001b[0;31m# print(s[0],sd[0])\u001b[0m\u001b[0;34m\u001b[0m\u001b[0;34m\u001b[0m\u001b[0;34m\u001b[0m\u001b[0m\n\u001b[1;32m    103\u001b[0m         \u001b[0;31m# if (itr-1)%200==0:\u001b[0m\u001b[0;34m\u001b[0m\u001b[0;34m\u001b[0m\u001b[0;34m\u001b[0m\u001b[0m\n\u001b[0;32m--> 104\u001b[0;31m         \u001b[0mwout\u001b[0m\u001b[0;34m,\u001b[0m \u001b[0mbias\u001b[0m \u001b[0;34m=\u001b[0m \u001b[0mwout_gen\u001b[0m\u001b[0;34m.\u001b[0m\u001b[0mget_wout\u001b[0m\u001b[0;34m(\u001b[0m\u001b[0ms\u001b[0m\u001b[0;34m.\u001b[0m\u001b[0mdetach\u001b[0m\u001b[0;34m(\u001b[0m\u001b[0;34m)\u001b[0m\u001b[0;34m,\u001b[0m\u001b[0msd\u001b[0m\u001b[0;34m.\u001b[0m\u001b[0mdetach\u001b[0m\u001b[0;34m(\u001b[0m\u001b[0;34m)\u001b[0m\u001b[0;34m,\u001b[0m \u001b[0mtrue_y0\u001b[0m\u001b[0;34m,\u001b[0m \u001b[0mt\u001b[0m\u001b[0;34m)\u001b[0m\u001b[0;34m\u001b[0m\u001b[0;34m\u001b[0m\u001b[0m\n\u001b[0m\u001b[1;32m    105\u001b[0m         \u001b[0;31m#print(f'bias: {bias}')\u001b[0m\u001b[0;34m\u001b[0m\u001b[0;34m\u001b[0m\u001b[0;34m\u001b[0m\u001b[0m\n\u001b[1;32m    106\u001b[0m \u001b[0;34m\u001b[0m\u001b[0m\n",
      "\u001b[0;31mTypeError\u001b[0m: get_wout() takes 1 positional argument but 5 were given"
     ]
    }
   ],
   "source": [
    "%%time\n",
    "pred, gt, estim  = optimize(a0 = lambda t: t**2,#-(5./t + t)#-3*t**2\n",
    "                            a1 = lambda t:1 + 0.*t,\n",
    "                            f = lambda t: torch.sin(t),\n",
    "                            n_timepoints = 50,\n",
    "                            #regularization = 0.001,\n",
    "                           wout = \"learned\")"
   ]
  },
  {
   "cell_type": "code",
   "execution_count": 18,
   "id": "comparable-boundary",
   "metadata": {},
   "outputs": [],
   "source": [
    "# plt.figure(figsize = (14, 4))\n",
    "# for i in range(y.shape[0]):\n",
    "#     plt.plot(gt[:,i], alpha = 0.3, color = \"red\")\n",
    "#     plt.plot(pred[:,i], alpha = 0.3, color = \"blue\")\n",
    "#     plt.plot(estim[:,i], alpha = 0.3, color = \"green\")"
   ]
  },
  {
   "cell_type": "code",
   "execution_count": 19,
   "id": "included-information",
   "metadata": {},
   "outputs": [
    {
     "ename": "NameError",
     "evalue": "name 'y' is not defined",
     "output_type": "error",
     "traceback": [
      "\u001b[0;31m---------------------------------------------------------------------------\u001b[0m",
      "\u001b[0;31mNameError\u001b[0m                                 Traceback (most recent call last)",
      "\u001b[0;32m<ipython-input-19-06cc1ec22613>\u001b[0m in \u001b[0;36m<module>\u001b[0;34m\u001b[0m\n\u001b[0;32m----> 1\u001b[0;31m \u001b[0;32mfor\u001b[0m \u001b[0mi\u001b[0m \u001b[0;32min\u001b[0m \u001b[0mrange\u001b[0m\u001b[0;34m(\u001b[0m\u001b[0my\u001b[0m\u001b[0;34m.\u001b[0m\u001b[0mshape\u001b[0m\u001b[0;34m[\u001b[0m\u001b[0;36m0\u001b[0m\u001b[0;34m]\u001b[0m\u001b[0;34m)\u001b[0m\u001b[0;34m:\u001b[0m\u001b[0;34m\u001b[0m\u001b[0;34m\u001b[0m\u001b[0m\n\u001b[0m\u001b[1;32m      2\u001b[0m     \u001b[0mplt\u001b[0m\u001b[0;34m.\u001b[0m\u001b[0mplot\u001b[0m\u001b[0;34m(\u001b[0m\u001b[0;34m(\u001b[0m\u001b[0my\u001b[0m\u001b[0;34m[\u001b[0m\u001b[0;34m:\u001b[0m\u001b[0;34m,\u001b[0m\u001b[0mi\u001b[0m\u001b[0;34m]\u001b[0m \u001b[0;34m-\u001b[0m \u001b[0mpred\u001b[0m\u001b[0;34m[\u001b[0m\u001b[0;34m:\u001b[0m\u001b[0;34m,\u001b[0m\u001b[0mi\u001b[0m\u001b[0;34m]\u001b[0m\u001b[0;34m)\u001b[0m\u001b[0;34m**\u001b[0m\u001b[0;36m2\u001b[0m\u001b[0;34m,\u001b[0m \u001b[0malpha\u001b[0m \u001b[0;34m=\u001b[0m \u001b[0;36m0.3\u001b[0m\u001b[0;34m,\u001b[0m \u001b[0mcolor\u001b[0m \u001b[0;34m=\u001b[0m \u001b[0;34m\"red\"\u001b[0m\u001b[0;34m)\u001b[0m\u001b[0;34m\u001b[0m\u001b[0;34m\u001b[0m\u001b[0m\n\u001b[1;32m      3\u001b[0m \u001b[0mplt\u001b[0m\u001b[0;34m.\u001b[0m\u001b[0myscale\u001b[0m\u001b[0;34m(\u001b[0m\u001b[0;34m\"log\"\u001b[0m\u001b[0;34m)\u001b[0m\u001b[0;34m\u001b[0m\u001b[0;34m\u001b[0m\u001b[0m\n\u001b[1;32m      4\u001b[0m     \u001b[0;31m#plt.plot(, alpha = 0.3, color = \"blue\")\u001b[0m\u001b[0;34m\u001b[0m\u001b[0;34m\u001b[0m\u001b[0;34m\u001b[0m\u001b[0m\n",
      "\u001b[0;31mNameError\u001b[0m: name 'y' is not defined"
     ]
    }
   ],
   "source": [
    "for i in range(y.shape[0]):\n",
    "    plt.plot((y[:,i] - pred[:,i])**2, alpha = 0.3, color = \"red\")\n",
    "plt.yscale(\"log\")\n",
    "    #plt.plot(, alpha = 0.3, color = \"blue\")"
   ]
  },
  {
   "cell_type": "code",
   "execution_count": null,
   "id": "rental-citizenship",
   "metadata": {},
   "outputs": [],
   "source": [
    "compute_s_sdot"
   ]
  },
  {
   "cell_type": "code",
   "execution_count": null,
   "id": "contrary-stroke",
   "metadata": {},
   "outputs": [],
   "source": [
    "for i in dir(locals()):\n",
    "    print(i)\n",
    "    if type(i) == type(hi):\n",
    "        print(i)"
   ]
  },
  {
   "cell_type": "code",
   "execution_count": null,
   "id": "angry-fabric",
   "metadata": {},
   "outputs": [],
   "source": [
    "NDIMZ = 5\n",
    "dir(NDIMZ)"
   ]
  },
  {
   "cell_type": "code",
   "execution_count": null,
   "id": "addressed-recorder",
   "metadata": {},
   "outputs": [],
   "source": [
    "import types\n",
    "def imports():\n",
    "    for name, val in globals().items():\n",
    "        if isinstance(val, types.ModuleType):\n",
    "            yield val.__name__"
   ]
  },
  {
   "cell_type": "code",
   "execution_count": null,
   "id": "herbal-alberta",
   "metadata": {},
   "outputs": [],
   "source": [
    "globals().values()"
   ]
  },
  {
   "cell_type": "code",
   "execution_count": null,
   "id": "backed-postage",
   "metadata": {},
   "outputs": [],
   "source": [
    "\n",
    "#print([f for f in globals().values() ])"
   ]
  },
  {
   "cell_type": "code",
   "execution_count": null,
   "id": "burning-pioneer",
   "metadata": {},
   "outputs": [],
   "source": []
  }
 ],
 "metadata": {
  "kernelspec": {
   "display_name": "Python 3",
   "language": "python",
   "name": "python3"
  },
  "language_info": {
   "codemirror_mode": {
    "name": "ipython",
    "version": 3
   },
   "file_extension": ".py",
   "mimetype": "text/x-python",
   "name": "python",
   "nbconvert_exporter": "python",
   "pygments_lexer": "ipython3",
   "version": "3.8.8"
  }
 },
 "nbformat": 4,
 "nbformat_minor": 5
}
