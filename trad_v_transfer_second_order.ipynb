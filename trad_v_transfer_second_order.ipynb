{
 "cells": [
  {
   "cell_type": "code",
   "execution_count": 1,
   "metadata": {},
   "outputs": [],
   "source": [
    "\"\"\"\n",
    "base solver for transfer ode (first order methods)\n",
    "\"\"\"\n",
    "import torch\n",
    "import torch.nn as nn\n",
    "import argparse\n",
    "import torch.optim as optim\n",
    "import numpy as np\n",
    "import time\n",
    "from sklearn.decomposition import PCA\n",
    "from sklearn.preprocessing import MinMaxScaler\n",
    "from torchdiffeq import odeint_adjoint as odeint\n",
    "from mpl_toolkits.mplot3d import Axes3D\n",
    "import random\n",
    "import matplotlib.pyplot as plt\n",
    "import seaborn as sns\n",
    "from scipy.signal import savgol_filter\n",
    "\n",
    "%matplotlib inline\n",
    "\n",
    "\n",
    "parser = argparse.ArgumentParser('transfer demo')\n",
    "\n",
    "parser.add_argument('--tmax', type=float, default=3.14159)\n",
    "parser.add_argument('--dt', type=int, default=0.05)\n",
    "parser.add_argument('--niters', type=int, default=10000)\n",
    "parser.add_argument('--niters_test', type=int, default=15000)\n",
    "parser.add_argument('--hidden_size', type=int, default=100)\n",
    "parser.add_argument('--num_bundles', type=int, default=10)\n",
    "parser.add_argument('--num_bundles_test', type=int, default=10)\n",
    "parser.add_argument('--test_freq', type=int, default=100)\n",
    "parser.add_argument('--viz', action='store_false')\n",
    "parser.add_argument('--gpu', type=int, default=0)\n",
    "parser.add_argument('--evaluate_only', action='store_true')\n",
    "args = parser.parse_args([])"
   ]
  },
  {
   "cell_type": "code",
   "execution_count": 2,
   "metadata": {},
   "outputs": [
    {
     "data": {
      "text/plain": [
       "15000"
      ]
     },
     "execution_count": 2,
     "metadata": {},
     "output_type": "execute_result"
    }
   ],
   "source": [
    "args.niters_test"
   ]
  },
  {
   "cell_type": "code",
   "execution_count": 39,
   "metadata": {},
   "outputs": [],
   "source": [
    "\n",
    "class diffeq(nn.Module):\n",
    "    \"\"\"\n",
    "    defines the diffeq of interest\n",
    "    \"\"\"\n",
    "\n",
    "    def __init__(self,a1, a0, f):\n",
    "        super().__init__()\n",
    "        self.a1 = a1\n",
    "        self.a0 = a0\n",
    "        self.f = f\n",
    "\n",
    "    # return ydot\n",
    "    def forward(self, t, states):\n",
    "        # y = y[:, 0]\n",
    "        y = states[:, 0].reshape(1, -1)\n",
    "        yd = states[:, 1].reshape(1, -1)\n",
    "        ydd = get_udot(t,y,yd,self.a1,self.a0,self.f)#(-self.a1(t) * yd - self.a0(t) * y + self.f(t)).reshape(-1, 1)\n",
    "        return torch.cat([yd.reshape(-1,1), ydd.reshape(-1,1)], 1)\n",
    "\n",
    "# get_udot(tv,pred_y,pred_ydot,a1_samples,a0_samples,f_samples)\n",
    "\n",
    "def get_udot(t,y,yd,a1,a0,f):\n",
    "\n",
    "    #a1 is 1\n",
    "    # print(t.dim())\n",
    "    if y.shape[0] <=1:\n",
    "        a1s = torch.tensor([a_(t) for a_ in a1]).reshape(1, -1)\n",
    "        a0s = torch.tensor([a_(t) for a_ in a0]).reshape(1,-1)\n",
    "        f0s = torch.tensor([f_(t) for f_ in f]).reshape(1,-1)\n",
    "    else:\n",
    "        a1s = torch.cat([a_(t) for a_ in a1], 1)\n",
    "        a0s = torch.cat([a_(t) for a_ in a0],1)\n",
    "        f0s = torch.cat([f_(t) for f_ in f],1)\n",
    "\n",
    "    ydd = (-a1s*yd -a0s * y + f0s)\n",
    "    return ydd\n",
    "\n",
    "class SiLU(nn.Module):\n",
    "    def __init__(self):\n",
    "        '''\n",
    "        Init method.\n",
    "        '''\n",
    "        super().__init__() # init the base class\n",
    "\n",
    "    def forward(self, input):\n",
    "        '''\n",
    "        Forward pass of the function.\n",
    "        '''\n",
    "        return torch.sin(input)\n",
    "\n",
    "\n",
    "class base_diffeq:\n",
    "    \"\"\"\n",
    "    integrates base_solver given y0 and time\n",
    "    \"\"\"\n",
    "\n",
    "    def __init__(self, base_solver):\n",
    "        self.base = base_solver\n",
    "\n",
    "    def get_solution(self, true_y0, t):\n",
    "        with torch.no_grad():\n",
    "            true_y = odeint(self.base, true_y0, t, method='dopri8')\n",
    "        return true_y\n",
    "\n",
    "    def get_deriv(self, true_y0, t):\n",
    "        with torch.no_grad():\n",
    "            true_ydot = self.base(t, true_y0)\n",
    "        return true_ydot\n",
    "\n",
    "\n",
    "class estim_diffeq:\n",
    "    \"\"\"\n",
    "    integrates base_solver given y0 and time\n",
    "    \"\"\"\n",
    "\n",
    "    def __init__(self, base_solver):\n",
    "        self.base = base_solver\n",
    "\n",
    "    def get_solution(self, true_y0, t):\n",
    "        with torch.no_grad():\n",
    "            true_y = odeint(self.base, true_y0, t, method='midpoint')\n",
    "        return true_y\n",
    "\n",
    "    def get_deriv(self, true_y0, t):\n",
    "        with torch.no_grad():\n",
    "            true_ydot = self.base(t, true_y0)\n",
    "        return true_ydot\n",
    "\n",
    "\n",
    "class ODEFunc(nn.Module):\n",
    "    \"\"\"\n",
    "    function to learn the outputs u(t) and hidden states h(t) s.t. u(t) = h(t)W_out\n",
    "    \"\"\"\n",
    "\n",
    "    def __init__(self, hidden_dim, output_dim):\n",
    "        super(ODEFunc, self).__init__()\n",
    "        self.hdim = hidden_dim\n",
    "        self.nl = nn.Tanh()\n",
    "        self.lin1 = nn.Linear(1, self.hdim)\n",
    "        self.lin2 = nn.Linear(self.hdim, self.hdim)\n",
    "        self.lout = nn.Linear(self.hdim, output_dim, bias=True)\n",
    "\n",
    "    def forward(self, t):\n",
    "        x = self.h(t)\n",
    "        x = self.lout(x)\n",
    "        return x\n",
    "\n",
    "    def wouts(self, x):\n",
    "        return self.lout(x)\n",
    "\n",
    "    def h(self, t):\n",
    "        x = self.lin1(t)\n",
    "        x = self.nl(x)\n",
    "        x = self.lin2(x)\n",
    "        x = self.nl(x)\n",
    "        return x\n",
    "\n",
    "\n",
    "def diff(u, t, order=1):\n",
    "    # code adapted from neurodiffeq library\n",
    "    # https://github.com/NeuroDiffGym/neurodiffeq/blob/master/neurodiffeq/neurodiffeq.py\n",
    "    r\"\"\"The derivative of a variable with respect to another.\n",
    "    \"\"\"\n",
    "    # ones = torch.ones_like(u)\n",
    "\n",
    "    der = torch.cat([torch.autograd.grad(u[:, i].sum(), t, create_graph=True)[0] for i in range(u.shape[1])], 1)\n",
    "    if der is None:\n",
    "        print('derivative is None')\n",
    "        return torch.zeros_like(t, requires_grad=True)\n",
    "    else:\n",
    "        der.requires_grad_()\n",
    "    for i in range(1, order):\n",
    "\n",
    "        der = torch.cat([torch.autograd.grad(der[:, i].sum(), t, create_graph=True)[0] for i in range(der.shape[1])], 1)\n",
    "        # print()\n",
    "        if der is None:\n",
    "            print('derivative is None')\n",
    "            return torch.zeros_like(t, requires_grad=True)\n",
    "        else:\n",
    "            der.requires_grad_()\n",
    "    return der\n",
    "\n",
    "\n",
    "class Transformer_Learned(nn.Module):\n",
    "    \"\"\"\n",
    "    returns Wout learnable, only need hidden and output dims\n",
    "    \"\"\"\n",
    "\n",
    "    def __init__(self, input_dims, output_dims):\n",
    "        super(Transformer_Learned, self).__init__()\n",
    "        self.lin1 = nn.Linear(args.hidden_size, output_dims)\n",
    "\n",
    "    def forward(self, x):\n",
    "        return self.lin1(x)\n",
    "\n",
    "\n",
    "# h, hd, hdd, true_y0, t.detach(), a1_train, a0_train, f_train)\n",
    "def get_wout(s, sd,sdd, y0s, t,a1s,a0s,fs):\n",
    "    # y0 = torch.stack([y0 for _ in range(len(s))]).reshape(len(s), -1)\n",
    "\n",
    "    a0_batch = torch.cat([var_(t) for var_ in a0s], 1)\n",
    "    a1_batch = torch.cat([var_(t) for var_ in a1s], 1)\n",
    "    f_batch = torch.cat([var_(t) for var_ in fs], 1)\n",
    "    WS = []\n",
    "    for i in range(f_batch.shape[1]):\n",
    "        y0 = y0s[i,:].reshape(1,-1)\n",
    "        a0 = a0_batch[:,i].reshape(-1,1)\n",
    "        a1 = a1_batch[:,i].reshape(-1,1)\n",
    "        f = f_batch[:,i].reshape(-1,1)\n",
    "\n",
    "        # print(a0,a1,f)\n",
    "        DH = (sdd + a1 * sd + a0 * s)\n",
    "        D0 = -f\n",
    "\n",
    "        h0m = s[0].reshape(-1, 1)\n",
    "        h0d = sd[0].reshape(-1, 1)\n",
    "        W0 = torch.linalg.solve(DH.t() @ DH + h0m @ h0m.t() + h0d @ h0d.t(),\n",
    "                                -DH.t() @ D0 + h0m @ (y0[:,0].reshape(1, -1)) + h0d @ (y0[:,1].reshape(1, -1)))\n",
    "        # print(W0.shape)\n",
    "        WS.append(W0)\n",
    "    nWS = (torch.cat(WS)).reshape(f_batch.shape[1],-1)\n",
    "    return nWS.t()\n"
   ]
  },
  {
   "cell_type": "code",
   "execution_count": 58,
   "metadata": {},
   "outputs": [],
   "source": [
    "f_train = [lambda z: 0. * z, lambda z: 1 + 0 * z, lambda z: torch.cos(z), lambda z: torch.sin(z)]\n",
    "a0_train = [lambda z: 1. + 0. * z, lambda z: 3 * z, lambda z: z ** 2]\n",
    "a1_train = [lambda z: 0 * z, lambda z: z ** 2, lambda z: z ** 3]\n",
    "r1 = -5.\n",
    "r2 = 5.\n",
    "true_y0 = (r2 - r1) * torch.rand(100, 2) + r1\n",
    "t = torch.arange(0., args.tmax, args.dt).reshape(-1, 1)\n",
    "t.requires_grad = True\n",
    "# tmax = torch.tensor([[np.pi]])\n",
    "# tmax.requires_grad = True\n",
    "\n",
    "# t = torch.cat([t, tmax], 0)\n",
    "\n",
    "# sample each parameter to build the tuples\n",
    "f_samples = random.choices(f_train, k=args.num_bundles_test)\n",
    "a0_samples = random.choices(a0_train, k=args.num_bundles_test)\n",
    "a1_samples = random.choices(a1_train, k=args.num_bundles_test)\n",
    "y0_samples = true_y0[torch.tensor(random.choices(range(len(true_y0)), k=args.num_bundles_test))]\n",
    "\n",
    "diffeq_init = diffeq(a1_samples, a0_samples, f_samples)\n",
    "gt_generator = base_diffeq(diffeq_init)\n",
    "true_y = gt_generator.get_solution(y0_samples, t.ravel())\n",
    "\n",
    "NDIMZ = args.hidden_size"
   ]
  },
  {
   "cell_type": "code",
   "execution_count": 59,
   "metadata": {},
   "outputs": [
    {
     "ename": "IndexError",
     "evalue": "index 10 is out of bounds for dimension 1 with size 10",
     "output_type": "error",
     "traceback": [
      "\u001b[0;31m---------------------------------------------------------------------------\u001b[0m",
      "\u001b[0;31mIndexError\u001b[0m                                Traceback (most recent call last)",
      "\u001b[0;32m/var/folders/rj/r4dg769n4y99hyd57qky79mw0000gp/T/ipykernel_29108/621784049.py\u001b[0m in \u001b[0;36m<module>\u001b[0;34m\u001b[0m\n\u001b[1;32m      1\u001b[0m \u001b[0;32mfor\u001b[0m \u001b[0mi\u001b[0m \u001b[0;32min\u001b[0m \u001b[0mrange\u001b[0m\u001b[0;34m(\u001b[0m\u001b[0;36m100\u001b[0m\u001b[0;34m)\u001b[0m\u001b[0;34m:\u001b[0m\u001b[0;34m\u001b[0m\u001b[0;34m\u001b[0m\u001b[0m\n\u001b[0;32m----> 2\u001b[0;31m     \u001b[0mplt\u001b[0m\u001b[0;34m.\u001b[0m\u001b[0mplot\u001b[0m\u001b[0;34m(\u001b[0m\u001b[0mtrue_y\u001b[0m\u001b[0;34m[\u001b[0m\u001b[0;34m:\u001b[0m\u001b[0;34m,\u001b[0m\u001b[0mi\u001b[0m\u001b[0;34m]\u001b[0m\u001b[0;34m)\u001b[0m\u001b[0;34m\u001b[0m\u001b[0;34m\u001b[0m\u001b[0m\n\u001b[0m",
      "\u001b[0;31mIndexError\u001b[0m: index 10 is out of bounds for dimension 1 with size 10"
     ]
    },
    {
     "data": {
      "image/png": "[encoded data removed]",
      "text/plain": [
       "<Figure size 432x288 with 1 Axes>"
      ]
     },
     "metadata": {
      "needs_background": "light"
     },
     "output_type": "display_data"
    }
   ],
   "source": [
    "for i in range(100):\n",
    "    plt.plot(true_y[:,i])"
   ]
  },
  {
   "cell_type": "markdown",
   "metadata": {},
   "source": [
    "#### Training from Scratch"
   ]
  },
  {
   "cell_type": "code",
   "execution_count": 7,
   "metadata": {},
   "outputs": [
    {
     "name": "stdout",
     "output_type": "stream",
     "text": [
      "1.8771283626556396\n",
      "0.7193947434425354\n",
      "0.592974066734314\n",
      "0.5369520783424377\n",
      "0.5811644196510315\n",
      "0.530089259147644\n",
      "0.497126042842865\n",
      "0.42901620268821716\n",
      "0.40097370743751526\n",
      "0.28700655698776245\n",
      "0.2130560576915741\n",
      "0.15629741549491882\n",
      "0.09953444451093674\n",
      "0.07829560339450836\n",
      "0.0459250882267952\n",
      "0.047755930572748184\n",
      "0.027980292215943336\n",
      "0.029001694172620773\n",
      "0.017434129491448402\n",
      "0.014554701745510101\n",
      "0.009886754676699638\n",
      "0.054146092385053635\n",
      "0.008244051598012447\n",
      "0.007609338499605656\n",
      "0.010053751990199089\n",
      "0.008393456228077412\n",
      "0.005786917172372341\n",
      "0.005255206488072872\n",
      "0.00335061177611351\n",
      "0.005133676342666149\n",
      "0.0027053954545408487\n",
      "0.0027026126626878977\n",
      "0.0018143567722290754\n",
      "0.005893082357943058\n",
      "0.001960246590897441\n",
      "0.003638994647189975\n",
      "0.00318964128382504\n",
      "0.002033968223258853\n",
      "0.005018796771764755\n",
      "0.0012237633345648646\n",
      "0.00618496211245656\n",
      "0.0020083251874893904\n",
      "0.0006683982792310417\n",
      "0.0007961733499541879\n",
      "0.007761662360280752\n",
      "0.0022909040562808514\n",
      "0.000826057221274823\n",
      "0.00044967737630940974\n",
      "0.002175587695091963\n",
      "0.0003704304399434477\n",
      "0.0005250028916634619\n",
      "0.0006935264100320637\n",
      "0.011868588626384735\n",
      "0.0005893100751563907\n",
      "0.001262277946807444\n",
      "0.004469527862966061\n",
      "0.0017806399846449494\n",
      "0.002942717634141445\n",
      "0.0006094686686992645\n",
      "0.004086759872734547\n",
      "0.002389037748798728\n",
      "0.013265865854918957\n",
      "0.00981365516781807\n",
      "0.0004680704732891172\n",
      "0.0013232948258519173\n",
      "0.021258216351270676\n",
      "0.0002250058314530179\n",
      "0.00015937048010528088\n",
      "0.0011482833651825786\n",
      "0.00031733635114505887\n",
      "0.00012335870997048914\n",
      "0.0002710987173486501\n",
      "0.0010195274371653795\n",
      "0.0005750280688516796\n",
      "0.0018037119880318642\n",
      "0.00017735165602061898\n",
      "0.03146086260676384\n",
      "0.00016930109995882958\n",
      "0.00012720991799142212\n",
      "0.001865099766291678\n",
      "0.00306504825130105\n",
      "0.00016839169256854802\n",
      "0.00020867507555522025\n",
      "0.00011878662189701572\n",
      "9.424462768947706e-05\n",
      "0.00020024218247272074\n",
      "0.00015028301277197897\n",
      "0.0009504781919531524\n",
      "0.000457714224467054\n",
      "0.00046145450323820114\n",
      "0.008857887238264084\n",
      "0.0032500270754098892\n",
      "0.00019097297627013177\n",
      "0.0007318478310480714\n",
      "0.00044192877248860896\n",
      "0.00024797191144898534\n",
      "0.001174608594737947\n",
      "0.010069726034998894\n",
      "0.0007225340814329684\n",
      "0.00011710378748830408\n"
     ]
    }
   ],
   "source": [
    "\n",
    "func = ODEFunc(hidden_dim=NDIMZ, output_dim=args.num_bundles_test)\n",
    "# func.load_state_dict(torch.load('func_ffnn_bundles'))\n",
    "\n",
    "# for name,param in func.named_parameters():\n",
    "#     if name == 'lout.weight':\n",
    "# #         param = nn.Parameter(wout)\n",
    "    \n",
    "#         param.requires_grad = True\n",
    "#     else:\n",
    "#         param.requires_grad = False\n",
    "        \n",
    "        \n",
    "optimizer = optim.Adam(func.parameters(), lr=1e-3)\n",
    "\n",
    "residuals_scratch = []\n",
    "\n",
    "for itr in range(1, args.niters + 1):\n",
    "    # add t0 to training times, including randomly generated ts\n",
    "        t0 = torch.tensor([[0.]])\n",
    "        t0.requires_grad = True\n",
    "        tr = args.tmax * torch.rand(int(args.tmax / args.dt))[:100].reshape(-1, 1)\n",
    "        tr.requires_grad = True\n",
    "        tv = torch.cat([t0, tr], 0)\n",
    "        optimizer.zero_grad()\n",
    "        pred_y = func(tv)\n",
    "        pred_ydot = diff(pred_y, tv)\n",
    "        pred_yddot = diff(pred_ydot,tv)\n",
    "        loss_diffeq = pred_yddot - get_udot(tv,pred_y,pred_ydot,a1_samples,a0_samples,f_samples)\n",
    "        loss_ics = torch.mean((pred_y[0, :].ravel() - y0_samples[:,0].ravel())**2) + torch.mean((pred_ydot[0,:].ravel()-y0_samples[:,1].ravel())**2)\n",
    "        loss = torch.mean(torch.square(loss_diffeq)) + torch.mean(loss_ics)\n",
    "        loss.backward()\n",
    "        optimizer.step()\n",
    "#         loss_collector.append(torch.square(loss_diffeq).mean().item())\n",
    "        if itr % args.test_freq == 0:\n",
    "            func.eval()\n",
    "            pred_y = func(t)\n",
    "            pred_ydot = diff(pred_y,t)\n",
    "            pred_yddot = diff(pred_ydot,t)\n",
    "\n",
    "            pred_y = pred_y.detach()\n",
    "            pred_ydot = pred_ydot.detach()\n",
    "            pred_yddot = pred_yddot.detach()\n",
    "\n",
    "            current_residual = torch.mean((pred_yddot - get_udot(t,pred_y,pred_ydot,a1_samples,a0_samples,f_samples))**2)\n",
    "            residuals_scratch.append(current_residual.item())\n",
    "            print(residuals_scratch[-1])"
   ]
  },
  {
   "cell_type": "markdown",
   "metadata": {},
   "source": [
    "### Classic transfer H fixed"
   ]
  },
  {
   "cell_type": "code",
   "execution_count": null,
   "metadata": {},
   "outputs": [],
   "source": [
    "\n",
    "func = ODEFunc(hidden_dim=NDIMZ, output_dim=args.num_bundles_test)\n",
    "func.load_state_dict(torch.load('func_ffnn_bundles_vdp'))\n",
    "func.eval()\n",
    "\n",
    "h = func.h(t)\n",
    "hd = diff(h, t)\n",
    "hdd = diff(hd,t)\n",
    "h = h.detach()\n",
    "hd = hd.detach()\n",
    "hdd = hdd.detach()\n",
    "\n",
    "\n",
    "# func = ODEFunc(hidden_dim=NDIMZ, output_dim=args.num_bundles)\n",
    "# func.load_state_dict(torch.load('func_ffnn_bundles'))\n",
    "\n",
    "# # print(func.lout.weight)\n",
    "\n",
    "# with torch.no_grad():\n",
    "#     for name,param in func.named_parameters():\n",
    "#         if name == 'lout.weight':\n",
    "#             torch.nn.init.kaiming_uniform_(param)\n",
    "#         if name == 'lout.bias':\n",
    "#             torch.nn.init.constant_(param,1)\n",
    "# # print(func.lout.weight)\n",
    "# for name,param in func.named_parameters():\n",
    "#     if (name == 'lout.weight') or (name=='lout.bias'):\n",
    "#         param.requires_grad = True\n",
    "#     else:\n",
    "#         param.requires_grad = False\n",
    "    \n",
    "# for name,param in func.named_parameters():\n",
    "#     print(param.requires_grad)\n",
    "\n",
    "new_net = Transformer_Learned(NDIMZ,args.num_bundles_test)\n",
    "        \n",
    "optimizer = optim.SGD(new_net.parameters(), lr=1e-2,momentum=0.95)\n",
    "\n",
    "\n",
    "residuals = []\n",
    "rmse = []\n",
    "for itr in range(0, args.niters + 1):\n",
    "    new_net.train()\n",
    "    optimizer.zero_grad()\n",
    "\n",
    "    pred_y = new_net(h)\n",
    "    pred_ydot = new_net(hd)\n",
    "    pred_yddot = new_net(hdd)\n",
    "    \n",
    "    loss_diffeq = pred_yddot - get_udot(tv,pred_y,pred_ydot,a1_samples,a0_samples,f_samples)\n",
    "    loss_ics = torch.mean((pred_y[0, :].ravel() - y0_samples[:,0].ravel())**2) + torch.mean((pred_ydot[0,:].ravel()-y0_samples[:,1].ravel())**2)\n",
    "    loss = torch.mean(torch.square(loss_diffeq)) + torch.mean(loss_ics)\n",
    "        \n",
    "    if itr % args.test_freq == 0:\n",
    "        func.eval()\n",
    "        pred_y = new_net(h)\n",
    "        pred_ydot = new_net(hd)\n",
    "        pred_yddot = new_net(hdd)\n",
    "\n",
    "        pred_y = pred_y.detach()\n",
    "        pred_ydot = pred_ydot.detach()\n",
    "        pred_yddot = pred_yddot.detach()\n",
    "\n",
    "        current_residual = torch.mean((pred_yddot - get_udot(t,pred_y,pred_ydot,a1_samples,a0_samples,f_samples))**2)\n",
    "        residuals.append(current_residual)"
   ]
  },
  {
   "cell_type": "markdown",
   "metadata": {},
   "source": [
    "#### classic transfer"
   ]
  },
  {
   "cell_type": "code",
   "execution_count": 8,
   "metadata": {},
   "outputs": [
    {
     "name": "stdout",
     "output_type": "stream",
     "text": [
      "374.2484562397003\n"
     ]
    }
   ],
   "source": [
    "\n",
    "func = ODEFunc(hidden_dim=NDIMZ, output_dim=args.num_bundles_test)\n",
    "func.load_state_dict(torch.load('func_ffnn_bundles_vdp'))\n",
    "\n",
    "# for name,param in func.named_parameters():\n",
    "#     if name == 'lout.weight':\n",
    "# #         param = nn.Parameter(wout)\n",
    "    \n",
    "#         param.requires_grad = True\n",
    "#     else:\n",
    "#         param.requires_grad = False\n",
    "        \n",
    "        \n",
    "optimizer = optim.Adam(func.parameters(), lr=1e-3)\n",
    "\n",
    "\n",
    "residuals1 = []\n",
    "rmse1 = []\n",
    "\n",
    "s1 = time.time()\n",
    "for itr in range(0, args.niters + 1):\n",
    "    t0 = torch.tensor([[0.]])\n",
    "    t0.requires_grad = True\n",
    "    tr = args.tmax * torch.rand(int(args.tmax / args.dt))[:100].reshape(-1, 1)\n",
    "    tr.requires_grad = True\n",
    "    tv = torch.cat([t0, tr], 0)\n",
    "    optimizer.zero_grad()\n",
    "    pred_y = func(tv)\n",
    "    pred_ydot = diff(pred_y, tv)\n",
    "    pred_yddot = diff(pred_ydot,tv)\n",
    "    loss_diffeq = pred_yddot - get_udot(tv,pred_y,pred_ydot,a1_samples,a0_samples,f_samples)\n",
    "    loss_ics = torch.mean((pred_y[0, :].ravel() - y0_samples[:,0].ravel())**2) + torch.mean((pred_ydot[0,:].ravel()-y0_samples[:,1].ravel())**2)\n",
    "    loss = torch.mean(torch.square(loss_diffeq)) + torch.mean(loss_ics)\n",
    "    loss.backward()\n",
    "    optimizer.step()\n",
    "#         loss_collector.append(torch.square(loss_diffeq).mean().item())\n",
    "    if itr % args.test_freq == 0:\n",
    "        func.eval()\n",
    "        pred_y = func(t)\n",
    "        pred_ydot = diff(pred_y,t)\n",
    "        pred_yddot = diff(pred_ydot,t)\n",
    "\n",
    "        pred_y = pred_y.detach()\n",
    "        pred_ydot = pred_ydot.detach()\n",
    "        pred_yddot = pred_yddot.detach()\n",
    "\n",
    "        current_residual = torch.mean((pred_yddot - get_udot(t,pred_y,pred_ydot,a1_samples,a0_samples,f_samples))**2)\n",
    "        residuals1.append(current_residual.item())\n",
    "s2 = time.time()\n",
    "print(s2-s1)"
   ]
  },
  {
   "cell_type": "code",
   "execution_count": 9,
   "metadata": {},
   "outputs": [
    {
     "data": {
      "text/plain": [
       "3980.0"
      ]
     },
     "execution_count": 9,
     "metadata": {},
     "output_type": "execute_result"
    }
   ],
   "source": [
    "398/0.1"
   ]
  },
  {
   "cell_type": "markdown",
   "metadata": {},
   "source": [
    "### analytic"
   ]
  },
  {
   "cell_type": "code",
   "execution_count": 53,
   "metadata": {
    "scrolled": true
   },
   "outputs": [
    {
     "name": "stdout",
     "output_type": "stream",
     "text": [
      "0.003314971923828125\n"
     ]
    }
   ],
   "source": [
    "func = ODEFunc(hidden_dim=NDIMZ, output_dim=args.num_bundles_test)\n",
    "func.load_state_dict(torch.load('func_ffnn_bundles_vdp'))\n",
    "\n",
    "\n",
    "h = func.h(t)\n",
    "hd = diff(h, t)\n",
    "hdd = diff(hd, t)\n",
    "h = h.detach()\n",
    "hd = hd.detach()\n",
    "hdd = hdd.detach()\n",
    "\n",
    "# h = torch.cat([h,torch.ones(len(h),1)],1)\n",
    "# hd = torch.cat([hd,torch.zeros(len(hd),1)],1)\n",
    "# hdd = torch.cat([hdd,torch.zeros(len(hdd),1)],1)\n",
    "\n",
    "s1 = time.time()\n",
    "wout = get_wout(h, hd, hdd, true_y0, t.detach(), a1_samples, a0_samples, f_samples)\n",
    "print(time.time()-s1)\n",
    "pred_y = h@wout\n",
    "pred_yd = hd@wout\n",
    "pred_ydd = hdd @ wout\n",
    "res_init = torch.mean((pred_ydd - get_udot(t, pred_y, pred_yd, a1_samples, a0_samples, f_samples)) ** 2)\n"
   ]
  },
  {
   "cell_type": "code",
   "execution_count": 54,
   "metadata": {},
   "outputs": [
    {
     "data": {
      "text/plain": [
       "tensor(2.2421e-05, grad_fn=<MeanBackward0>)"
      ]
     },
     "execution_count": 54,
     "metadata": {},
     "output_type": "execute_result"
    }
   ],
   "source": [
    "res_init"
   ]
  },
  {
   "cell_type": "code",
   "execution_count": 55,
   "metadata": {},
   "outputs": [
    {
     "data": {
      "text/plain": [
       "torch.Size([63, 10])"
      ]
     },
     "execution_count": 55,
     "metadata": {},
     "output_type": "execute_result"
    }
   ],
   "source": [
    "pred_y.shape"
   ]
  },
  {
   "cell_type": "code",
   "execution_count": 56,
   "metadata": {},
   "outputs": [
    {
     "data": {
      "text/plain": [
       "tensor(11.2626)"
      ]
     },
     "execution_count": 56,
     "metadata": {},
     "output_type": "execute_result"
    }
   ],
   "source": [
    "((true_y[:,:,0]-pred_y)**2).mean()"
   ]
  },
  {
   "cell_type": "code",
   "execution_count": 36,
   "metadata": {},
   "outputs": [
    {
     "data": {
      "text/plain": [
       "torch.Size([64, 10, 2])"
      ]
     },
     "execution_count": 36,
     "metadata": {},
     "output_type": "execute_result"
    }
   ],
   "source": [
    "true_y.shape"
   ]
  },
  {
   "cell_type": "code",
   "execution_count": 42,
   "metadata": {},
   "outputs": [
    {
     "data": {
      "text/plain": [
       "[<matplotlib.lines.Line2D at 0x12cc5f1c0>]"
      ]
     },
     "execution_count": 42,
     "metadata": {},
     "output_type": "execute_result"
    },
    {
     "data": {
      "image/png": "[encoded data removed]",
      "text/plain": [
       "<Figure size 432x288 with 1 Axes>"
      ]
     },
     "metadata": {
      "needs_background": "light"
     },
     "output_type": "display_data"
    }
   ],
   "source": [
    "plt.plot(true_y[:,1,0])\n",
    "plt.plot(pred_y[:,1])"
   ]
  },
  {
   "cell_type": "code",
   "execution_count": 9,
   "metadata": {},
   "outputs": [],
   "source": [
    "sns.set_palette('deep')\n",
    "\n",
    "sns.axes_style(style='ticks')\n",
    "sns.set_context(\"paper\",font_scale=3, rc={\"font.size\":30,\"axes.titlesize\":25,\"axes.labelsize\":20,\"axes.legendsize\":20,'lines.linewidth':4})\n",
    "sns.set_palette('deep')\n"
   ]
  },
  {
   "cell_type": "code",
   "execution_count": 10,
   "metadata": {},
   "outputs": [],
   "source": [
    "tpts = [args.test_freq*i for i in range(int(args.niters/args.test_freq))]"
   ]
  },
  {
   "cell_type": "code",
   "execution_count": 11,
   "metadata": {},
   "outputs": [],
   "source": [
    "# from scipy.signal import \n",
    "# yhat = savgol_filter(y, 51, 3) "
   ]
  },
  {
   "cell_type": "code",
   "execution_count": 12,
   "metadata": {},
   "outputs": [],
   "source": [
    "def moving_average(a, n=50) :\n",
    "    ret = np.cumsum(a, dtype=float)\n",
    "    ret[n:] = ret[n:] - ret[:-n]\n",
    "    return ret[n - 1:] / n"
   ]
  },
  {
   "cell_type": "code",
   "execution_count": 13,
   "metadata": {},
   "outputs": [],
   "source": [
    "def exponential_smoothing(series, alpha):\n",
    "    \"\"\"given a series and alpha, return series of expoentially smoothed points\"\"\"\n",
    "    results = np.zeros_like(series)\n",
    "\n",
    "    # first value remains the same as series,\n",
    "    # as there is no history to learn from\n",
    "    results[0] = series[0] \n",
    "    for t in range(1, len(series)):\n",
    "        results[t] = alpha * series[t] + (1 - alpha) * results[t - 1]\n",
    "\n",
    "    return results"
   ]
  },
  {
   "cell_type": "code",
   "execution_count": 15,
   "metadata": {},
   "outputs": [
    {
     "data": {
      "image/png": "[encoded data removed]",
      "text/plain": [
       "<Figure size 504x504 with 1 Axes>"
      ]
     },
     "metadata": {
      "needs_background": "light"
     },
     "output_type": "display_data"
    }
   ],
   "source": [
    "plt.figure(figsize=(7,7))\n",
    "plt.plot(tpts[:],residuals_scratch,label='scratch')\n",
    "# plt.plot(tpts,residuals1[:-1],label='Transfer',c='black')\n",
    "# plt.plot(tpts,residuals[:-1],label='Transfer, frozen H')\n",
    "# plt.plot(tpts[:len(residuals2)],residuals2[:-1],linestyle='--',label='Transfer,analytic Wout')\n",
    "\n",
    "plt.plot(tpts,(res_init*torch.ones(len(tpts))).detach().numpy(),linestyle='--',label='Transfer,analytic Wout')\n",
    "plt.yscale('log')\n",
    "plt.xlabel(\"Epochs\")\n",
    "plt.ylabel(\"Residuals\")\n",
    "plt.xlim([0,5000])\n",
    "# plt.ylim([10**-3,10**1])\n",
    "plt.legend(fontsize=15)\n",
    "plt.savefig('residuals_second_order.pdf',dpi=2400,bbox_inches='tight')"
   ]
  },
  {
   "cell_type": "code",
   "execution_count": null,
   "metadata": {},
   "outputs": [],
   "source": []
  }
 ],
 "metadata": {
  "kernelspec": {
   "display_name": "Python 3 (ipykernel)",
   "language": "python",
   "name": "python3"
  },
  "language_info": {
   "codemirror_mode": {
    "name": "ipython",
    "version": 3
   },
   "file_extension": ".py",
   "mimetype": "text/x-python",
   "name": "python",
   "nbconvert_exporter": "python",
   "pygments_lexer": "ipython3",
   "version": "3.8.11"
  }
 },
 "nbformat": 4,
 "nbformat_minor": 2
}
